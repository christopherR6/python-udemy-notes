{
 "cells": [
  {
   "cell_type": "code",
   "execution_count": 1,
   "id": "6d7f2a9e",
   "metadata": {},
   "outputs": [],
   "source": [
    "import numpy as np"
   ]
  },
  {
   "cell_type": "code",
   "execution_count": 2,
   "id": "989a030f",
   "metadata": {},
   "outputs": [],
   "source": [
    "arr = np.arange(11)"
   ]
  },
  {
   "cell_type": "code",
   "execution_count": 3,
   "id": "88f91589",
   "metadata": {},
   "outputs": [
    {
     "data": {
      "text/plain": [
       "array([ 0,  1,  2,  3,  4,  5,  6,  7,  8,  9, 10])"
      ]
     },
     "execution_count": 3,
     "metadata": {},
     "output_type": "execute_result"
    }
   ],
   "source": [
    "arr"
   ]
  },
  {
   "cell_type": "code",
   "execution_count": 4,
   "id": "dcf6a577",
   "metadata": {},
   "outputs": [
    {
     "ename": "SyntaxError",
     "evalue": "invalid syntax (<ipython-input-4-bcbc4cbac987>, line 1)",
     "output_type": "error",
     "traceback": [
      "\u001b[1;36m  File \u001b[1;32m\"<ipython-input-4-bcbc4cbac987>\"\u001b[1;36m, line \u001b[1;32m1\u001b[0m\n\u001b[1;33m    np.sqrt.(arr)\u001b[0m\n\u001b[1;37m            ^\u001b[0m\n\u001b[1;31mSyntaxError\u001b[0m\u001b[1;31m:\u001b[0m invalid syntax\n"
     ]
    }
   ],
   "source": [
    "np.sqrt.(arr)"
   ]
  },
  {
   "cell_type": "code",
   "execution_count": 5,
   "id": "8af8aaa3",
   "metadata": {},
   "outputs": [
    {
     "data": {
      "text/plain": [
       "array([0.        , 1.        , 1.41421356, 1.73205081, 2.        ,\n",
       "       2.23606798, 2.44948974, 2.64575131, 2.82842712, 3.        ,\n",
       "       3.16227766])"
      ]
     },
     "execution_count": 5,
     "metadata": {},
     "output_type": "execute_result"
    }
   ],
   "source": [
    "np.sqrt(arr)"
   ]
  },
  {
   "cell_type": "code",
   "execution_count": 6,
   "id": "9cf7b58f",
   "metadata": {},
   "outputs": [
    {
     "data": {
      "text/plain": [
       "array([1.00000000e+00, 2.71828183e+00, 7.38905610e+00, 2.00855369e+01,\n",
       "       5.45981500e+01, 1.48413159e+02, 4.03428793e+02, 1.09663316e+03,\n",
       "       2.98095799e+03, 8.10308393e+03, 2.20264658e+04])"
      ]
     },
     "execution_count": 6,
     "metadata": {},
     "output_type": "execute_result"
    }
   ],
   "source": [
    "np.exp(arr)"
   ]
  },
  {
   "cell_type": "code",
   "execution_count": 7,
   "id": "6254307e",
   "metadata": {},
   "outputs": [],
   "source": [
    "A = np.random.randn(10)"
   ]
  },
  {
   "cell_type": "code",
   "execution_count": 8,
   "id": "4616bcdc",
   "metadata": {},
   "outputs": [
    {
     "data": {
      "text/plain": [
       "array([ 0.31747145, -0.29713131, -0.2396151 ,  0.53526691,  1.00452644,\n",
       "        0.19282238, -0.78600012, -0.83725888, -0.49122468,  0.04740795])"
      ]
     },
     "execution_count": 8,
     "metadata": {},
     "output_type": "execute_result"
    }
   ],
   "source": [
    "A"
   ]
  },
  {
   "cell_type": "code",
   "execution_count": 9,
   "id": "82dcc472",
   "metadata": {},
   "outputs": [],
   "source": [
    "B = np.random.randn(10)"
   ]
  },
  {
   "cell_type": "code",
   "execution_count": 10,
   "id": "8605da3d",
   "metadata": {},
   "outputs": [
    {
     "data": {
      "text/plain": [
       "array([-0.17012083, -1.44600508,  0.26001548,  0.50003013, -0.31669726,\n",
       "       -0.37273555, -0.7523141 , -0.25481197,  0.53966439, -0.36311009])"
      ]
     },
     "execution_count": 10,
     "metadata": {},
     "output_type": "execute_result"
    }
   ],
   "source": [
    "B"
   ]
  },
  {
   "cell_type": "code",
   "execution_count": 11,
   "id": "59ad1bb5",
   "metadata": {},
   "outputs": [
    {
     "data": {
      "text/plain": [
       "array([ 0.14735062, -1.74313639,  0.02040038,  1.03529704,  0.68782918,\n",
       "       -0.17991317, -1.53831422, -1.09207085,  0.04843971, -0.31570213])"
      ]
     },
     "execution_count": 11,
     "metadata": {},
     "output_type": "execute_result"
    }
   ],
   "source": [
    "#Binary Functions\n",
    "np.add(A,B)"
   ]
  },
  {
   "cell_type": "code",
   "execution_count": 12,
   "id": "32c1e77f",
   "metadata": {},
   "outputs": [
    {
     "data": {
      "text/plain": [
       "array([ 0.31747145, -0.29713131,  0.26001548,  0.53526691,  1.00452644,\n",
       "        0.19282238, -0.7523141 , -0.25481197,  0.53966439,  0.04740795])"
      ]
     },
     "execution_count": 12,
     "metadata": {},
     "output_type": "execute_result"
    }
   ],
   "source": [
    "np.maximum(A,B)"
   ]
  },
  {
   "cell_type": "code",
   "execution_count": 13,
   "id": "fffb6492",
   "metadata": {},
   "outputs": [
    {
     "data": {
      "text/plain": [
       "True"
      ]
     },
     "execution_count": 13,
     "metadata": {},
     "output_type": "execute_result"
    }
   ],
   "source": [
    "website = 'http://docs.scipy.org/doc/numpy/reference/ufuncs.hyml#available-ufuncs'\n",
    "import webbrowser\n",
    "webbrowser.open(website)"
   ]
  },
  {
   "cell_type": "code",
   "execution_count": 14,
   "id": "0c44ab4a",
   "metadata": {},
   "outputs": [],
   "source": [
    "angles = np.array([0,30,45,60,90,180])"
   ]
  },
  {
   "cell_type": "code",
   "execution_count": 15,
   "id": "a8e2fea7",
   "metadata": {},
   "outputs": [
    {
     "data": {
      "text/plain": [
       "array([  0,  30,  45,  60,  90, 180])"
      ]
     },
     "execution_count": 15,
     "metadata": {},
     "output_type": "execute_result"
    }
   ],
   "source": [
    "angles"
   ]
  },
  {
   "cell_type": "code",
   "execution_count": 16,
   "id": "e82e4e82",
   "metadata": {},
   "outputs": [],
   "source": [
    "radians = np.deg2rad(angles)"
   ]
  },
  {
   "cell_type": "code",
   "execution_count": 17,
   "id": "9f7cdb46",
   "metadata": {},
   "outputs": [
    {
     "data": {
      "text/plain": [
       "array([0.        , 0.52359878, 0.78539816, 1.04719755, 1.57079633,\n",
       "       3.14159265])"
      ]
     },
     "execution_count": 17,
     "metadata": {},
     "output_type": "execute_result"
    }
   ],
   "source": [
    "radians"
   ]
  },
  {
   "cell_type": "code",
   "execution_count": 18,
   "id": "3d2bf68e",
   "metadata": {},
   "outputs": [],
   "source": [
    "sinvalue = np.sin(angles)"
   ]
  },
  {
   "cell_type": "code",
   "execution_count": 19,
   "id": "0a924a8d",
   "metadata": {},
   "outputs": [
    {
     "data": {
      "text/plain": [
       "array([ 0.        , -0.98803162,  0.85090352, -0.30481062,  0.89399666,\n",
       "       -0.80115264])"
      ]
     },
     "execution_count": 19,
     "metadata": {},
     "output_type": "execute_result"
    }
   ],
   "source": [
    "sinvalue"
   ]
  },
  {
   "cell_type": "code",
   "execution_count": 20,
   "id": "05a09c65",
   "metadata": {},
   "outputs": [],
   "source": [
    "sinvalue = np.sin(radians)"
   ]
  },
  {
   "cell_type": "code",
   "execution_count": 21,
   "id": "1e664972",
   "metadata": {},
   "outputs": [
    {
     "data": {
      "text/plain": [
       "array([0.00000000e+00, 5.00000000e-01, 7.07106781e-01, 8.66025404e-01,\n",
       "       1.00000000e+00, 1.22464680e-16])"
      ]
     },
     "execution_count": 21,
     "metadata": {},
     "output_type": "execute_result"
    }
   ],
   "source": [
    "sinvalue"
   ]
  },
  {
   "cell_type": "code",
   "execution_count": 22,
   "id": "1104d99e",
   "metadata": {},
   "outputs": [],
   "source": [
    "weight = ([50,60,70,80,90])"
   ]
  },
  {
   "cell_type": "code",
   "execution_count": 23,
   "id": "779c73ec",
   "metadata": {},
   "outputs": [
    {
     "name": "stdout",
     "output_type": "stream",
     "text": [
      "mean weight of the student is: \n"
     ]
    }
   ],
   "source": [
    "print('mean weight of the student is: ')"
   ]
  },
  {
   "cell_type": "code",
   "execution_count": 24,
   "id": "c8989cd9",
   "metadata": {},
   "outputs": [
    {
     "name": "stdout",
     "output_type": "stream",
     "text": [
      "70.0\n"
     ]
    }
   ],
   "source": [
    "print(np.mean(weight))"
   ]
  },
  {
   "cell_type": "code",
   "execution_count": 26,
   "id": "5b3247dd",
   "metadata": {},
   "outputs": [
    {
     "name": "stdout",
     "output_type": "stream",
     "text": [
      "78.0\n"
     ]
    }
   ],
   "source": [
    "print(np.percentile(weight,70))"
   ]
  },
  {
   "cell_type": "code",
   "execution_count": 27,
   "id": "c503b4ac",
   "metadata": {},
   "outputs": [],
   "source": [
    "weight = [99]"
   ]
  },
  {
   "cell_type": "code",
   "execution_count": 28,
   "id": "82c2c284",
   "metadata": {},
   "outputs": [
    {
     "data": {
      "text/plain": [
       "[99]"
      ]
     },
     "execution_count": 28,
     "metadata": {},
     "output_type": "execute_result"
    }
   ],
   "source": [
    "weight"
   ]
  },
  {
   "cell_type": "code",
   "execution_count": null,
   "id": "4c0c367b",
   "metadata": {},
   "outputs": [],
   "source": []
  }
 ],
 "metadata": {
  "kernelspec": {
   "display_name": "Python 3",
   "language": "python",
   "name": "python3"
  },
  "language_info": {
   "codemirror_mode": {
    "name": "ipython",
    "version": 3
   },
   "file_extension": ".py",
   "mimetype": "text/x-python",
   "name": "python",
   "nbconvert_exporter": "python",
   "pygments_lexer": "ipython3",
   "version": "3.8.8"
  }
 },
 "nbformat": 4,
 "nbformat_minor": 5
}
