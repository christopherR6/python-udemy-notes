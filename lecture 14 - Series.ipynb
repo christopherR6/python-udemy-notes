{
 "cells": [
  {
   "cell_type": "code",
   "execution_count": 1,
   "id": "829b20a3",
   "metadata": {},
   "outputs": [],
   "source": [
    "import numpy as np"
   ]
  },
  {
   "cell_type": "code",
   "execution_count": 2,
   "id": "258cd410",
   "metadata": {},
   "outputs": [],
   "source": [
    "import pandas as pd"
   ]
  },
  {
   "cell_type": "code",
   "execution_count": 4,
   "id": "8d66633a",
   "metadata": {},
   "outputs": [],
   "source": [
    "from pandas import Series, DataFrame"
   ]
  },
  {
   "cell_type": "code",
   "execution_count": 5,
   "id": "b8986989",
   "metadata": {},
   "outputs": [],
   "source": [
    "obj = Series([3,6,9,12])"
   ]
  },
  {
   "cell_type": "code",
   "execution_count": 6,
   "id": "80d67657",
   "metadata": {},
   "outputs": [
    {
     "data": {
      "text/plain": [
       "0     3\n",
       "1     6\n",
       "2     9\n",
       "3    12\n",
       "dtype: int64"
      ]
     },
     "execution_count": 6,
     "metadata": {},
     "output_type": "execute_result"
    }
   ],
   "source": [
    "obj"
   ]
  },
  {
   "cell_type": "code",
   "execution_count": 7,
   "id": "c305f79f",
   "metadata": {},
   "outputs": [
    {
     "data": {
      "text/plain": [
       "array([ 3,  6,  9, 12], dtype=int64)"
      ]
     },
     "execution_count": 7,
     "metadata": {},
     "output_type": "execute_result"
    }
   ],
   "source": [
    "obj.values"
   ]
  },
  {
   "cell_type": "code",
   "execution_count": 9,
   "id": "e5f182f4",
   "metadata": {},
   "outputs": [
    {
     "data": {
      "text/plain": [
       "RangeIndex(start=0, stop=4, step=1)"
      ]
     },
     "execution_count": 9,
     "metadata": {},
     "output_type": "execute_result"
    }
   ],
   "source": [
    "obj.index"
   ]
  },
  {
   "cell_type": "code",
   "execution_count": 10,
   "id": "b9e08e0f",
   "metadata": {},
   "outputs": [],
   "source": [
    "ww2_cas = Series(['800000','500000','300000','210000','400000'],index=['usa','germany','china','japan','korea'])"
   ]
  },
  {
   "cell_type": "code",
   "execution_count": 11,
   "id": "5a1a36ee",
   "metadata": {},
   "outputs": [
    {
     "data": {
      "text/plain": [
       "usa        800000\n",
       "germany    500000\n",
       "china      300000\n",
       "japan      210000\n",
       "korea      400000\n",
       "dtype: object"
      ]
     },
     "execution_count": 11,
     "metadata": {},
     "output_type": "execute_result"
    }
   ],
   "source": [
    "ww2_cas"
   ]
  },
  {
   "cell_type": "code",
   "execution_count": 12,
   "id": "620f66d8",
   "metadata": {},
   "outputs": [
    {
     "data": {
      "text/plain": [
       "'800000'"
      ]
     },
     "execution_count": 12,
     "metadata": {},
     "output_type": "execute_result"
    }
   ],
   "source": [
    "ww2_cas['usa']"
   ]
  },
  {
   "cell_type": "code",
   "execution_count": 25,
   "id": "b89aa1b6",
   "metadata": {},
   "outputs": [
    {
     "data": {
      "text/plain": [
       "True"
      ]
     },
     "execution_count": 25,
     "metadata": {},
     "output_type": "execute_result"
    }
   ],
   "source": [
    "'japan' in ww2_cas"
   ]
  },
  {
   "cell_type": "code",
   "execution_count": 26,
   "id": "d36ef67e",
   "metadata": {},
   "outputs": [],
   "source": [
    "ww2_dict = ww2_cas.to_dict()"
   ]
  },
  {
   "cell_type": "code",
   "execution_count": 27,
   "id": "5cc1999c",
   "metadata": {},
   "outputs": [
    {
     "data": {
      "text/plain": [
       "{'usa': '800000',\n",
       " 'germany': '500000',\n",
       " 'china': '300000',\n",
       " 'japan': '210000',\n",
       " 'korea': '400000'}"
      ]
     },
     "execution_count": 27,
     "metadata": {},
     "output_type": "execute_result"
    }
   ],
   "source": [
    "ww2_dict"
   ]
  },
  {
   "cell_type": "code",
   "execution_count": 28,
   "id": "a2310c1b",
   "metadata": {},
   "outputs": [],
   "source": [
    "ww2_series = Series(ww2_dict)"
   ]
  },
  {
   "cell_type": "code",
   "execution_count": 29,
   "id": "75bd3f5f",
   "metadata": {},
   "outputs": [
    {
     "data": {
      "text/plain": [
       "usa        800000\n",
       "germany    500000\n",
       "china      300000\n",
       "japan      210000\n",
       "korea      400000\n",
       "dtype: object"
      ]
     },
     "execution_count": 29,
     "metadata": {},
     "output_type": "execute_result"
    }
   ],
   "source": [
    "ww2_series"
   ]
  },
  {
   "cell_type": "code",
   "execution_count": 30,
   "id": "bb09a1fc",
   "metadata": {},
   "outputs": [],
   "source": [
    "countries = ['usa','japan','germany','china','korea','argentina']"
   ]
  },
  {
   "cell_type": "code",
   "execution_count": 32,
   "id": "29d2de6f",
   "metadata": {},
   "outputs": [],
   "source": [
    "obj2 = Series(ww2_dict,index=countries)"
   ]
  },
  {
   "cell_type": "code",
   "execution_count": 33,
   "id": "9e2481dd",
   "metadata": {},
   "outputs": [
    {
     "data": {
      "text/plain": [
       "usa          800000\n",
       "japan        210000\n",
       "germany      500000\n",
       "china        300000\n",
       "korea        400000\n",
       "argentina       NaN\n",
       "dtype: object"
      ]
     },
     "execution_count": 33,
     "metadata": {},
     "output_type": "execute_result"
    }
   ],
   "source": [
    "obj2"
   ]
  },
  {
   "cell_type": "code",
   "execution_count": 34,
   "id": "d72271ca",
   "metadata": {},
   "outputs": [
    {
     "data": {
      "text/plain": [
       "usa          False\n",
       "japan        False\n",
       "germany      False\n",
       "china        False\n",
       "korea        False\n",
       "argentina     True\n",
       "dtype: bool"
      ]
     },
     "execution_count": 34,
     "metadata": {},
     "output_type": "execute_result"
    }
   ],
   "source": [
    "pd.isnull(obj2)"
   ]
  },
  {
   "cell_type": "code",
   "execution_count": 35,
   "id": "b297924e",
   "metadata": {},
   "outputs": [
    {
     "data": {
      "text/plain": [
       "usa           True\n",
       "japan         True\n",
       "germany       True\n",
       "china         True\n",
       "korea         True\n",
       "argentina    False\n",
       "dtype: bool"
      ]
     },
     "execution_count": 35,
     "metadata": {},
     "output_type": "execute_result"
    }
   ],
   "source": [
    "pd.notnull(obj2)"
   ]
  },
  {
   "cell_type": "code",
   "execution_count": 36,
   "id": "6de01984",
   "metadata": {},
   "outputs": [
    {
     "data": {
      "text/plain": [
       "usa        800000\n",
       "germany    500000\n",
       "china      300000\n",
       "japan      210000\n",
       "korea      400000\n",
       "dtype: object"
      ]
     },
     "execution_count": 36,
     "metadata": {},
     "output_type": "execute_result"
    }
   ],
   "source": [
    "ww2_series"
   ]
  },
  {
   "cell_type": "code",
   "execution_count": 37,
   "id": "634b3835",
   "metadata": {},
   "outputs": [
    {
     "data": {
      "text/plain": [
       "usa          800000\n",
       "japan        210000\n",
       "germany      500000\n",
       "china        300000\n",
       "korea        400000\n",
       "argentina       NaN\n",
       "dtype: object"
      ]
     },
     "execution_count": 37,
     "metadata": {},
     "output_type": "execute_result"
    }
   ],
   "source": [
    "obj2"
   ]
  },
  {
   "cell_type": "code",
   "execution_count": 39,
   "id": "84cb1dad",
   "metadata": {},
   "outputs": [
    {
     "data": {
      "text/plain": [
       "argentina             NaN\n",
       "china        300000300000\n",
       "germany      500000500000\n",
       "japan        210000210000\n",
       "korea        400000400000\n",
       "usa          800000800000\n",
       "dtype: object"
      ]
     },
     "execution_count": 39,
     "metadata": {},
     "output_type": "execute_result"
    }
   ],
   "source": [
    "ww2_series + obj2"
   ]
  },
  {
   "cell_type": "code",
   "execution_count": 40,
   "id": "18b2bc9d",
   "metadata": {},
   "outputs": [],
   "source": [
    "obj2.name = \"world war 2 casualties\""
   ]
  },
  {
   "cell_type": "code",
   "execution_count": 41,
   "id": "384f7708",
   "metadata": {},
   "outputs": [
    {
     "data": {
      "text/plain": [
       "usa          800000\n",
       "japan        210000\n",
       "germany      500000\n",
       "china        300000\n",
       "korea        400000\n",
       "argentina       NaN\n",
       "Name: world war 2 casualties, dtype: object"
      ]
     },
     "execution_count": 41,
     "metadata": {},
     "output_type": "execute_result"
    }
   ],
   "source": [
    "obj2"
   ]
  },
  {
   "cell_type": "code",
   "execution_count": 42,
   "id": "5e54325a",
   "metadata": {},
   "outputs": [],
   "source": [
    "obj2.index.name = 'countries'"
   ]
  },
  {
   "cell_type": "code",
   "execution_count": 43,
   "id": "2638cdaa",
   "metadata": {},
   "outputs": [
    {
     "data": {
      "text/plain": [
       "countries\n",
       "usa          800000\n",
       "japan        210000\n",
       "germany      500000\n",
       "china        300000\n",
       "korea        400000\n",
       "argentina       NaN\n",
       "Name: world war 2 casualties, dtype: object"
      ]
     },
     "execution_count": 43,
     "metadata": {},
     "output_type": "execute_result"
    }
   ],
   "source": [
    "obj2"
   ]
  },
  {
   "cell_type": "code",
   "execution_count": null,
   "id": "f64201b3",
   "metadata": {},
   "outputs": [],
   "source": []
  }
 ],
 "metadata": {
  "kernelspec": {
   "display_name": "Python 3",
   "language": "python",
   "name": "python3"
  },
  "language_info": {
   "codemirror_mode": {
    "name": "ipython",
    "version": 3
   },
   "file_extension": ".py",
   "mimetype": "text/x-python",
   "name": "python",
   "nbconvert_exporter": "python",
   "pygments_lexer": "ipython3",
   "version": "3.8.8"
  }
 },
 "nbformat": 4,
 "nbformat_minor": 5
}
